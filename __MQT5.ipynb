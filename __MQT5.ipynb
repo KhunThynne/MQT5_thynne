{
 "cells": [
  {
   "cell_type": "code",
   "execution_count": 6,
   "metadata": {},
   "outputs": [],
   "source": [
    "import MetaTrader5 as mt5\n",
    "\n",
    "import pandas as pd\n",
    "from pandas.plotting import register_matplotlib_converters\n",
    "\n",
    "from datetime import datetime\n",
    "# account details\n",
    "import matplotlib.pyplot as plt\n",
    "register_matplotlib_converters()\n",
    "\n"
   ]
  },
  {
   "cell_type": "code",
   "execution_count": 7,
   "metadata": {},
   "outputs": [],
   "source": [
    "account = {\n",
    "    \"login\": 79524542,\n",
    "    \"password\": \"+nCj7jIg\",\n",
    "    \"server\": \"MetaQuotes-Demo\",\n",
    "}\n"
   ]
  },
  {
   "cell_type": "code",
   "execution_count": 8,
   "metadata": {},
   "outputs": [
    {
     "name": "stdout",
     "output_type": "stream",
     "text": [
      "\n",
      " Success Authorization \n",
      "\n"
     ]
    }
   ],
   "source": [
    "if not mt5.initialize(login=account[\"login\"], server=account['server'],password=account['password']):\n",
    "    print(\"\\n Authorization fail \\n\\ninitialize() failed, error code =\",mt5.last_error())\n",
    "    quit()\n",
    "else:\n",
    "    print(\"\\n Success Authorization \\n\")"
   ]
  }
 ],
 "metadata": {
  "kernelspec": {
   "display_name": "Python 3",
   "language": "python",
   "name": "python3"
  },
  "language_info": {
   "codemirror_mode": {
    "name": "ipython",
    "version": 3
   },
   "file_extension": ".py",
   "mimetype": "text/x-python",
   "name": "python",
   "nbconvert_exporter": "python",
   "pygments_lexer": "ipython3",
   "version": "3.12.2"
  }
 },
 "nbformat": 4,
 "nbformat_minor": 2
}
